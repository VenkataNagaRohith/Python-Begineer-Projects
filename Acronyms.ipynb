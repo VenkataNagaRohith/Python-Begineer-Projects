{
  "nbformat": 4,
  "nbformat_minor": 0,
  "metadata": {
    "colab": {
      "provenance": [],
      "authorship_tag": "ABX9TyMiBJ5b78ph1BPScsHLcNbr",
      "include_colab_link": true
    },
    "kernelspec": {
      "name": "python3",
      "display_name": "Python 3"
    },
    "language_info": {
      "name": "python"
    }
  },
  "cells": [
    {
      "cell_type": "markdown",
      "metadata": {
        "id": "view-in-github",
        "colab_type": "text"
      },
      "source": [
        "<a href=\"https://colab.research.google.com/github/VenkataNagaRohith/Python-Begineer-Projects/blob/main/Acronyms.ipynb\" target=\"_parent\"><img src=\"https://colab.research.google.com/assets/colab-badge.svg\" alt=\"Open In Colab\"/></a>"
      ]
    },
    {
      "cell_type": "code",
      "execution_count": 3,
      "metadata": {
        "colab": {
          "base_uri": "https://localhost:8080/"
        },
        "id": "t-DJqVdF-IH5",
        "outputId": "59e3205c-41e3-4c7f-d46e-e8c166d9ef5a"
      },
      "outputs": [
        {
          "output_type": "stream",
          "name": "stdout",
          "text": [
            "Enter the Text: kasetty venkata naga rohith\n",
            "KVNR\n"
          ]
        }
      ],
      "source": [
        "s=input(\"Enter the Text: \")\n",
        "l=s.split(\" \")\n",
        "a=\"\"\n",
        "for i in l:\n",
        "  a=a+i[0].upper()\n",
        "print(a)"
      ]
    }
  ]
}